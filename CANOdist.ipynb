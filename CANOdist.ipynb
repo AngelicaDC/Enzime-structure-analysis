{
 "cells": [
  {
   "cell_type": "markdown",
   "id": "3e6ee229-6ee1-4c17-a41d-982bb7b79487",
   "metadata": {},
   "source": [
    "## Este codigo será corregido para que funcione tanto en las anotaciones de cristalografía (en su mayoría sacadas con DSSP) como en las de STRIDE.\n",
    "## También se hará la fusión de residuos y hebras.\n",
    "## Los residuos continuos y separados por un solo número, deberán pertenecer a la misma hebra."
   ]
  },
  {
   "cell_type": "code",
   "execution_count": 2,
   "id": "a3c36e2d-87ed-4181-98d3-e006cbefe4a4",
   "metadata": {},
   "outputs": [],
   "source": [
    "import pandas as pd\n",
    "#from sklearn import linear_model\n",
    "import numpy as np\n",
    "import matplotlib.pyplot as plt\n",
    "from mpl_toolkits.mplot3d import Axes3D\n",
    "import math\n",
    "from sklearn.linear_model import LinearRegression\n",
    "from skspatial.objects import Points, Line, Plane, Vector, Point\n",
    "from skspatial.plotting import plot_3d\n",
    "import copy\n",
    "import scipy\n",
    "import statistics \n",
    "from pathlib import Path\n",
    "import sys\n",
    "from skimage.measure import EllipseModel\n",
    "from ast import literal_eval\n",
    "from biopandas.pdb import PandasPdb\n",
    "import sklearn"
   ]
  },
  {
   "cell_type": "code",
   "execution_count": 3,
   "id": "baa59271-25a9-478b-8349-880745a734f3",
   "metadata": {},
   "outputs": [],
   "source": [
    "#archivo_prefijo = archivo.split('_')[0]+'.SHEETaln.txt'\n",
    "#aln= pd.read_table(path/archivo_prefijo, header=None)#, index_col=0)\n",
    "#CA.loc[CA.index.intersection((aln.index).values)] # imprime los indices que se intersec"
   ]
  },
  {
   "cell_type": "code",
   "execution_count": 4,
   "id": "ebdd7e7f-69ad-4bfe-88cd-334d46eba9e2",
   "metadata": {},
   "outputs": [
    {
     "name": "stdout",
     "output_type": "stream",
     "text": [
      "1.2.4\n"
     ]
    }
   ],
   "source": [
    "print(pd.__version__)"
   ]
  },
  {
   "cell_type": "markdown",
   "id": "503f3cd8-9dba-45d0-a634-4fe93f5f6988",
   "metadata": {},
   "source": [
    "# FUNCIONES"
   ]
  },
  {
   "cell_type": "markdown",
   "id": "a3c62c84-8955-4e79-81e9-f36e340017dc",
   "metadata": {},
   "source": [
    "### 0. Formación de hebras por residuos continuos (un residuo de separación máximo) y fusión de datos cristalografía (DSSP) y STRIDE."
   ]
  },
  {
   "cell_type": "code",
   "execution_count": 89,
   "id": "fee99609-c8fa-40c6-bd95-fc528d83fabd",
   "metadata": {},
   "outputs": [],
   "source": [
    "def numeracion_hebras(df):\n",
    "    random_iterator = iter(df.index)\n",
    "    b=next(random_iterator)\n",
    "    c=1\n",
    "    while c < len(df):\n",
    "        c=c+1\n",
    "        a=b\n",
    "        b=next(random_iterator)\n",
    "        if df.at[b,'hebra'] == df.at[a,'hebra']:\n",
    "            pass\n",
    "        elif abs(df['num_res'][b] - df['num_res'][a])<=2: \n",
    "            df.at[b,'hebra']=df.at[a,'hebra']"
   ]
  },
  {
   "cell_type": "markdown",
   "id": "9e6afe80-d144-4188-bc0e-20edbc283430",
   "metadata": {},
   "source": [
    "### 1. Lee el archivo con información de las hebras beta del tim barrel, crea un dataframe sólo con los CA y cuenta el número de hebras que tiene el tim barrel."
   ]
  },
  {
   "cell_type": "code",
   "execution_count": 88,
   "id": "60807cd7-559d-45c7-bc11-118a40dd1b31",
   "metadata": {},
   "outputs": [],
   "source": [
    "def datos(archivo):\n",
    "    txt = pd.read_table(path/archivo, names=colnames, header=None)#, index_col='num_res') #Uso como indice num_res\n",
    "    print(archivo)\n",
    "    \n",
    "    CA=txt[txt['atomo']=='CA']\n",
    "    CB=txt[txt['atomo']=='CB']\n",
    "    N=txt[txt['atomo']=='N']\n",
    "    O=txt[txt['atomo']=='O']\n",
    "    \n",
    "    numeracion_hebras(CA)\n",
    "    numeracion_hebras(CB)\n",
    "    numeracion_hebras(N)\n",
    "    numeracion_hebras(O)\n",
    "    \n",
    "    n_hebras=CA['hebra'].nunique() #numero de hebras\n",
    "    return n_hebras, CA, txt, CB, N, O\n",
    "#Guardar el número de hebras inicial que tienen para posterior comparación con anotaciones de STRIDE y el futuro combinado\n",
    "#Posteriormente haremos un merge para unir los df de CA y CB"
   ]
  },
  {
   "cell_type": "markdown",
   "id": "4dc07144-db97-4946-93b6-e5ec50af49e9",
   "metadata": {},
   "source": [
    "### 2. Crea los ejes que representan mejor a las hebras beta del tim barrel usando svd."
   ]
  },
  {
   "cell_type": "code",
   "execution_count": 86,
   "id": "708ef0dc-e239-43a6-a9cb-648c82b870fe",
   "metadata": {},
   "outputs": [],
   "source": [
    "def fitlines(CA):\n",
    "    dic_fit={}\n",
    "    for i in CA[\"hebra\"].unique(): #lista con todas las hebras diferentes\n",
    "        coord=CA.loc[CA['hebra']==i, ['x','y','z']]\n",
    "        coord_mat= coord.to_numpy()        \n",
    "        #line_fit= Line.best_fit(coord_mat) #fit a line to points\n",
    "        coord_mat = Points(coord_mat)\n",
    "        points_centered, centroid =coord_mat.mean_center(return_centroid=True)\n",
    "        u,s,vh = np.linalg.svd(points_centered, float)     \n",
    "        dic_fit[i]=Line(point=centroid, direction= vh[0, :])\n",
    "    return dic_fit"
   ]
  },
  {
   "cell_type": "markdown",
   "id": "7459e043-a1c4-4779-be54-183e3cfb5769",
   "metadata": {},
   "source": [
    "### 3. Encuentra el ángulo entre dos vectores."
   ]
  },
  {
   "cell_type": "code",
   "execution_count": 85,
   "id": "d5ef8203-4ebb-44c1-8c19-e04c73f24fea",
   "metadata": {},
   "outputs": [],
   "source": [
    "def angle_between(v1, v2):\n",
    "    dot_pr = v1.dot(v2)\n",
    "    norms = np.linalg.norm(v1) * np.linalg.norm(v2)\n",
    "    return np.rad2deg(np.arccos(dot_pr / norms))"
   ]
  },
  {
   "cell_type": "markdown",
   "id": "c80d6f07-6d33-460e-b2dd-f25e2ff98883",
   "metadata": {},
   "source": [
    "### 4. Calcula la distancia y el ángulo entre los ejes de las hebras. Calcula la distancia entre los CA de las hebras más cercanas y con un ángulo dentro del umbral. Si la distancia entre un par de CA de dos hebras diferentes es menor a 6A, entonces define que esas hebras son adyacentes."
   ]
  },
  {
   "cell_type": "code",
   "execution_count": 298,
   "id": "4ea0ca5b-afde-4f37-8027-376af863abc8",
   "metadata": {
    "tags": []
   },
   "outputs": [],
   "source": [
    "def distancia_interhebra_angulo(dic_fit, CA, N, O, primera):\n",
    "    dic_dis={}\n",
    "    for i in CA[\"hebra\"].unique():\n",
    "        #Obtencion de coordenadas de la hebra i\n",
    "        CAcoordi=(CA.loc[CA['hebra']==i, ['x','y','z']]).to_numpy()\n",
    "        Ncoordi=(N.loc[N['hebra']==i, ['x','y','z']]).to_numpy()  \n",
    "        Ocoordi=(O.loc[O['hebra']==i, ['x','y','z']]).to_numpy()  \n",
    "        dic_dis[i]={}\n",
    "        for j in CA[\"hebra\"].unique():\n",
    "            #Obtencion de coordenadas de la hebra j\n",
    "            CAcoordj=(CA.loc[CA['hebra']==j, ['x','y','z']]).to_numpy()\n",
    "            Ncoordj=(N.loc[N['hebra']==j, ['x','y','z']]).to_numpy()  \n",
    "            Ocoordj=(O.loc[O['hebra']==j, ['x','y','z']]).to_numpy()\n",
    "            \n",
    "            if j!=i and CAcoordi.size!=0 and Ncoordi.size!=0 and Ocoordi.size!=0 and CAcoordj.size!=0 and Ncoordj.size!=0 and Ocoordj.size!=0:\n",
    "\n",
    "                #Calcular distancia euclidiana    \n",
    "                #Filas coordi, columnas coordj\n",
    "                CA_dis = sklearn.metrics.pairwise.euclidean_distances(CAcoordi,CAcoordj)\n",
    "                CA_dis_bol = CA_dis < 6\n",
    "                CA_dis_true = CA_dis_bol.sum()\n",
    "\n",
    "                N_O_dis = sklearn.metrics.pairwise.euclidean_distances(Ncoordi,Ocoordj)\n",
    "                N_O_dis_bol = N_O_dis <  3.5     \n",
    "                N_O_dis_true = N_O_dis_bol.sum()\n",
    "\n",
    "                O_N_dis = sklearn.metrics.pairwise.euclidean_distances(Ocoordi,Ncoordj)\n",
    "                O_N_dis_bol = O_N_dis < 3.5\n",
    "                O_N_dis_true = O_N_dis_bol.sum()\n",
    "\n",
    "                d= dic_fit[i].distance_line(dic_fit[j])\n",
    "                a= angle_between(dic_fit[i].vector, dic_fit[j].vector)\n",
    "\n",
    "                condicion= ((CA_dis_true>1 or (N_O_dis_true or O_N_dis_true)) and (a<60 or 120<a<180)) if primera else (CA_dis_true>1 or (N_O_dis_true or O_N_dis_true))\n",
    "                if condicion: # True CA<6A y angulo CA<60  # False Que haya al menos una pareja de CA<6A o un par de N-O u O-N.\n",
    "                    if CA_dis_true:\n",
    "                        dic_dis[i][j]=(CA_dis[CA_dis_bol]).mean(), a, d # Para contemplar si hay valores CA-CA<6\n",
    "                    else:\n",
    "                        dic_dis[i][j]=np.nan, a, d \n",
    "\n",
    "            #else: \n",
    "             #   print(i,'\\t', j,'\\t', d, a)\n",
    "                \n",
    "    return dic_dis"
   ]
  },
  {
   "cell_type": "markdown",
   "id": "47762cf5-0478-422a-a4b9-c9a7026a4aa0",
   "metadata": {},
   "source": [
    "### 5. A partir de los pares de hebras adyacentes, crea grupos de hebras que estén conectadas consecutivamente."
   ]
  },
  {
   "cell_type": "code",
   "execution_count": 10,
   "id": "5aa320be-be8c-4aa8-bf15-4363426e5a1b",
   "metadata": {},
   "outputs": [],
   "source": [
    "def ciclo(T,I,T_FIJA, lista_keys, dic_dis): #hace grupos con las hebras conectadas\n",
    "    for t_prima in dic_dis[T].keys():\n",
    "        if t_prima not in lista_keys[I][T_FIJA]:\n",
    "            lista_keys[I][T_FIJA].append(t_prima)\n",
    "            #print('|')\n",
    "            #print('padre:',T,' - hijo:',t_prima)\n",
    "            ciclo(t_prima, I, T_FIJA, lista_keys, dic_dis)\n",
    "\n",
    "def grupos_hebras_conectadas(dic_dis):\n",
    "    lista_keys={} #hace grupos con hebras conectadas, trabaja recursivamente con la funcion ciclo\n",
    "    for i in dic_dis.keys():\n",
    "        lista_keys[i]={}\n",
    "        #print('_____________\\nraiz:',i)\n",
    "        #print('|')\n",
    "        for t_fija in dic_dis[i].keys():\n",
    "            lista_keys[i][t_fija]=[i, t_fija]\n",
    "            #print('lista nueva: ','padre y raiz:',i,' - hijo y subraiz:',t_fija)\n",
    "            ciclo(t_fija, i, t_fija, lista_keys, dic_dis)\n",
    "    return lista_keys\n"
   ]
  },
  {
   "cell_type": "markdown",
   "id": "03449d8e-4510-456c-a7e9-6b3434dfe75b",
   "metadata": {},
   "source": [
    "### 6. Cuenta el número de hebras que tiene cada grupo y dime cuál es el grupo con más hebras. Premisa: el grupo con más hebras es el barril del tim barrel."
   ]
  },
  {
   "cell_type": "code",
   "execution_count": 11,
   "id": "987a19e4-3812-4420-8b22-1f82af39246b",
   "metadata": {
    "tags": []
   },
   "outputs": [],
   "source": [
    "def grupo_mas_grande(grupos):  #Encuentra el grupo con más hebras. En teoría sería el barril.\n",
    "    max_num_hebras=0         \n",
    "    for i in grupos.keys():\n",
    "        for j in grupos[i].keys():\n",
    "            if len(grupos[i][j]) > max_num_hebras:\n",
    "                max_num_hebras=len(grupos[i][j])\n",
    "                max_key_i=i\n",
    "                max_key_j=j\n",
    "    hebras_barril = grupos[max_key_i][max_key_j]\n",
    "    return max_num_hebras, max_key_i, max_key_j, hebras_barril"
   ]
  },
  {
   "cell_type": "markdown",
   "id": "1a5f0112-0539-4ab6-9755-9d059d99d372",
   "metadata": {},
   "source": [
    "### 7. Dime si la primer hebra del barril se conecta con la última hebra. Si es un circuito cerrado de hebras (la primera se conecta con la última), entonces comprobamos que es un barril. De lo contrario, puede tratarse de un barril incompleto o puede que no se haya escogido la hoja beta correcta."
   ]
  },
  {
   "cell_type": "code",
   "execution_count": 12,
   "id": "4f7c63d5-45c6-45d0-b22b-6efc81c02866",
   "metadata": {},
   "outputs": [],
   "source": [
    "def barril_circuito(hebras_barril, dic_dis): #La primer hebra del barril tiene\n",
    "    if hebras_barril[-1] in dic_dis[hebras_barril[0]]: #que conectarse con la ultima\n",
    "        circuito=1      #para ser circuito cerrado . Cerrado =1, abierto =0\n",
    "    else:\n",
    "        circuito=0\n",
    "    return circuito"
   ]
  },
  {
   "cell_type": "markdown",
   "id": "91cc6b2e-9ec0-42ca-96b6-874fe514050f",
   "metadata": {},
   "source": [
    "### 8. Crea un dataframe con las coordenadas de CA del barril. Actualiza los números de las hebras"
   ]
  },
  {
   "cell_type": "code",
   "execution_count": 13,
   "id": "a210f87e-0dea-4842-8fa8-2e10126392fb",
   "metadata": {},
   "outputs": [],
   "source": [
    "def coordenadas_barril_actualizacion(hebras_barril, CA, N, O): #creando un df que contenga las coordenadas\n",
    "    CA_barril=CA[CA['hebra'].isin(hebras_barril)] # de las hebras del barril   \n",
    "    N_barril=N[N['hebra'].isin(hebras_barril)]\n",
    "    O_barril=O[O['hebra'].isin(hebras_barril)]\n",
    "    \n",
    "    CA_barril = CA_barril.assign(hebra_old=pd.Series(CA_barril['hebra'])) #Guardando registro de la vieja numeración  \n",
    "    N_barril = N_barril.assign(hebra_old=pd.Series(N_barril['hebra']))\n",
    "    O_barril = O_barril.assign(hebra_old=pd.Series(O_barril['hebra']))\n",
    "    \n",
    "    rango=list(range(1,len(hebras_barril)+1)) #Creando lista con los nuevos números de las hebras del 1 al 8\n",
    "    \n",
    "    dict_rango_CA = dict(zip(CA_barril[\"hebra\"].unique(),rango))  #Enumeramos a las hebras del barril de acuerdo al orden de la secuencia de aminoácidos, convertimos dos listas en un diccionario\n",
    "    dict_rango_N = dict(zip(N_barril[\"hebra\"].unique(),rango))\n",
    "    dict_rango_O = dict(zip(O_barril[\"hebra\"].unique(),rango))\n",
    "    \n",
    "    CA_barril['hebra']=CA_barril['hebra'].map(dict_rango_CA) #Cambiamos el nombre de las hebras\n",
    "    N_barril['hebra']=N_barril['hebra'].map(dict_rango_N)\n",
    "    O_barril['hebra']=O_barril['hebra'].map(dict_rango_O)    \n",
    "        \n",
    "    return CA_barril, N_barril, O_barril, rango"
   ]
  },
  {
   "cell_type": "markdown",
   "id": "00967220-1964-415c-a1c4-93eb694850e6",
   "metadata": {},
   "source": [
    "### 9. Extrae los vectores de direccion y centroides de los ejes de las hebras, y con sus promedios calcula el eje central."
   ]
  },
  {
   "cell_type": "code",
   "execution_count": 14,
   "id": "6b843067-1b27-495b-bdc7-4df67192c23d",
   "metadata": {
    "tags": []
   },
   "outputs": [],
   "source": [
    "def centros_direcciones_barril(dic_fit_new, rango):\n",
    "    #Extraer las direcciones y los centroides de las hebras del barril; calcular sus medias.\n",
    "    direcciones=np.array([(dic_fit_new[i].direction) for i in rango])\n",
    "    direcciones_heb_barril=pd.DataFrame(direcciones,columns=['x', 'y', 'z'], index=rango)\n",
    "    \n",
    "    centros=np.array([(dic_fit_new[i].point) for i in rango])\n",
    "    centros_heb_barril=pd.DataFrame(centros,columns=['x', 'y', 'z'], index=rango)\n",
    "    \n",
    "    eje_vector=direcciones.mean(axis=0)\n",
    "    eje_centro=centros.mean(axis=0)    \n",
    "    eje_central = Line(point=eje_centro, direction=eje_vector)    \n",
    "    return direcciones_heb_barril, centros_heb_barril, eje_central"
   ]
  },
  {
   "cell_type": "markdown",
   "id": "21d40b74-14ab-4bd1-a064-6015a7d99161",
   "metadata": {},
   "source": [
    "### 10. Calcula el RMSD enter los CA de las hebras del barril y sus líneas ajustadas. Calcula la distancia promedio entre CA-CA para cada hebra. Calcula la distancia mínima promedio entre los CA de hebras adyacentes. Inicializa el dataframe que incluye los datos de todas las hebras."
   ]
  },
  {
   "cell_type": "code",
   "execution_count": 15,
   "id": "df81a5d5-2005-4584-8f1b-70a398234e0e",
   "metadata": {},
   "outputs": [],
   "source": [
    "def a_b_rmsd_hebras(rango, dic_dis_new, CA_barril, df_1, dic_fit_new):        \n",
    "    for i in rango:\n",
    "        coordi=(CA_barril.loc[CA_barril['hebra']==i, ['x','y','z']]).to_numpy()\n",
    "        error = np.array([dic_fit_new[i].distance_point(ri) for ri in coordi]) ### RMSD\n",
    "        df_1.loc[(archivo.split('_')[0],i),'rmsd']= np.sqrt(np.mean(error**2))\n",
    "        \n",
    "        ci, ai_suma = 0, 0 #Saca la distancia promedio entre CA de las mismas hebras\n",
    "        if len(coordi)>1:\n",
    "            for ri in range(len(coordi)-1):\n",
    "                distancia = Point(coordi[ri]).distance_point(Point(coordi[ri+1]))\n",
    "                ai_suma = ai_suma + distancia\n",
    "                ci=ci+1\n",
    "            ai_prom = ai_suma/ci\n",
    "            df_1.loc[(archivo.split('_')[0],i),'a']= ai_prom\n",
    "                    \n",
    "        ci, bi_suma = 0, 0 #Saca la distancia minima promedio entre hebras\n",
    "        for j in rango:\n",
    "            if j in dic_dis_new[i]:\n",
    "                bi_suma = bi_suma + dic_dis_new[i][j][0]\n",
    "                ci=ci+1\n",
    "        bi_prom = bi_suma/ci       \n",
    "        df_1.loc[(archivo.split('_')[0],i), 'b'] = bi_prom        \n",
    "    return df_1"
   ]
  },
  {
   "cell_type": "markdown",
   "id": "a19fa95f-02e1-456d-97ca-5cc2d64c05bf",
   "metadata": {},
   "source": [
    "### 11. Calcula el número de shear usando proyección de punto a linea "
   ]
  },
  {
   "cell_type": "code",
   "execution_count": 16,
   "id": "232c80cd-76a7-4736-9cd2-6678af4d8a1b",
   "metadata": {},
   "outputs": [],
   "source": [
    "def shear_proyeccion(dic_fit, hebras_barril, a):\n",
    "    punto_inicial =dic_fit[hebras_barril[-1]].point\n",
    "    punto =dic_fit[hebras_barril[-1]].point\n",
    "    for i in hebras_barril:\n",
    "        punto = dic_fit[i].project_point(punto)\n",
    "    shear= punto_inicial.distance_point(punto) / a\n",
    "    return shear"
   ]
  },
  {
   "cell_type": "markdown",
   "id": "e8f6e2d6-ef45-4049-9ae9-989e868e93bc",
   "metadata": {},
   "source": [
    "### 12. Calcula el ángulo de twist entre las hebras adyacentes del barril"
   ]
  },
  {
   "cell_type": "code",
   "execution_count": 17,
   "id": "abe8b678-7358-4d1c-ae1d-63f20671eda0",
   "metadata": {
    "tags": []
   },
   "outputs": [],
   "source": [
    "def angulo_twist(df_angulo_twist, rango, dic_dis_new):\n",
    "    for i in rango:\n",
    "        for j in rango:\n",
    "            if j in dic_dis_new[i]:\n",
    "                tw = 180-dic_dis_new[i][j][1]  if dic_dis_new[i][j][1] > 90 else dic_dis_new[i][j][1]\n",
    "                df_angulo_twist=df_angulo_twist.append({'barril':archivo.split('_')[0], 'hebra1':i, 'hebra2':j, 'angulo':tw}, ignore_index=True)\n",
    "    return df_angulo_twist"
   ]
  },
  {
   "cell_type": "markdown",
   "id": "00872a0f-a460-48c3-9703-0913fbb2e9f3",
   "metadata": {},
   "source": [
    "### Calcula el ángulo entre las hebras adyacentes del barril, considerando que la conexión entre las hebras sigue el orden (ascendente) de la secuencia de aminoácidos.\n",
    "Tengo esta premisa ya que todos los barriles que he visto respetan ese orden. Sólo aplico esto a barriles con 8 hebras"
   ]
  },
  {
   "cell_type": "code",
   "execution_count": 83,
   "id": "d59e6560-4094-4265-a5d0-101f322886d8",
   "metadata": {},
   "outputs": [],
   "source": [
    "def angulo_conexion(df_angulo_conexion,CA_barril,N_barril,O_barril,dic_fit_new):\n",
    "    dic_ac={}\n",
    "    for i in CA_barril[\"hebra\"].unique():\n",
    "        CAi=(CA_barril.loc[CA_barril['hebra']==i, ['x','y','z']]).to_numpy()\n",
    "        Ni=(N_barril.loc[N_barril['hebra']==i, ['x','y','z']]).to_numpy()  \n",
    "        Oi=(O_barril.loc[O_barril['hebra']==i, ['x','y','z']]).to_numpy()    \n",
    "        dic_ac[i]={}\n",
    "        \n",
    "        j = 1 if i==8 else i+1\n",
    "\n",
    "        CAj=(CA_barril.loc[CA_barril['hebra']==j, ['x','y','z']]).to_numpy()\n",
    "        Nj=(N_barril.loc[N_barril['hebra']==j, ['x','y','z']]).to_numpy()  \n",
    "        Oj=(O_barril.loc[O_barril['hebra']==j, ['x','y','z']]).to_numpy()\n",
    "\n",
    "        CA_dis_true = (sklearn.metrics.pairwise.euclidean_distances(CAi,CAj) < 6).sum()\n",
    "        N_O_dis_true = (sklearn.metrics.pairwise.euclidean_distances(Ni,Oj) < 3.5).sum()\n",
    "        O_N_dis_true = (sklearn.metrics.pairwise.euclidean_distances(Oi,Nj) < 3.5).sum()\n",
    "\n",
    "        angulo= angle_between(dic_fit_new[i].vector, dic_fit_new[j].vector)\n",
    "        angulo= 180-angulo if angulo > 90 else angulo\n",
    "\n",
    "        dic_ac[i][j]= angulo, CA_dis_true, N_O_dis_true, O_N_dis_true\n",
    "\n",
    "    df_angulo_conexion = df_angulo_conexion.append({'barril':archivo.split('_')[0],'tecnica':(archivo.split('SHEET')[1]).split('.')[0],\n",
    "                                            'an_1_2':dic_ac[1][2][0],'an_2_3':dic_ac[2][3][0],'an_3_4':dic_ac[3][4][0],'an_4_5':dic_ac[4][5][0],'an_5_6':dic_ac[5][6][0],'an_6_7':dic_ac[6][7][0],'an_7_8':dic_ac[7][8][0],'an_8_1':dic_ac[8][1][0],\n",
    "                                            'CA_1_2':dic_ac[1][2][1],'CA_2_3':dic_ac[2][3][1],'CA_3_4':dic_ac[3][4][1],'CA_4_5':dic_ac[4][5][1],'CA_5_6':dic_ac[5][6][1],'CA_6_7':dic_ac[6][7][1],'CA_7_8':dic_ac[7][8][1],'CA_8_1':dic_ac[8][1][1],\n",
    "                                            'NO_1_2':dic_ac[1][2][2],'NO_2_3':dic_ac[2][3][2],'NO_3_4':dic_ac[3][4][2],'NO_4_5':dic_ac[4][5][2],'NO_5_6':dic_ac[5][6][2],'NO_6_7':dic_ac[6][7][2],'NO_7_8':dic_ac[7][8][2],'NO_8_1':dic_ac[8][1][2],\n",
    "                                            'ON_1_2':dic_ac[1][2][3],'ON_2_3':dic_ac[2][3][3],'ON_3_4':dic_ac[3][4][3],'ON_4_5':dic_ac[4][5][3],'ON_5_6':dic_ac[5][6][3],'ON_6_7':dic_ac[6][7][3],'ON_7_8':dic_ac[7][8][3],'ON_8_1':dic_ac[8][1][3]}, \n",
    "                                           ignore_index=True)\n",
    "    return df_angulo_conexion\n"
   ]
  },
  {
   "cell_type": "markdown",
   "id": "9b33f18d-30b5-409d-b724-080458cf206f",
   "metadata": {},
   "source": [
    "### 5. Calcular las distancias entre los CA y el centroide del barril"
   ]
  },
  {
   "cell_type": "code",
   "execution_count": 19,
   "id": "c6f312ed-0f34-4f59-8dfc-3d8d46855f66",
   "metadata": {},
   "outputs": [],
   "source": [
    "#-------------------------------------------------------------------------------\n",
    "# RODRIGUES ROTATION\n",
    "# - Rotate given points based on a starting and ending vector\n",
    "# - Axis k and angle of rotation theta given by vectors n0,n1\n",
    "#   P_rot = P*cos(theta) + (k x P)*sin(theta) + k*<k,P>*(1-cos(theta))\n",
    "#-------------------------------------------------------------------------------\n",
    "def rodrigues_rot(P, n0, n1):\n",
    "    \n",
    "    # If P is only 1d array (coords of single point), fix it to be matrix\n",
    "    if P.ndim == 1:\n",
    "        P = P[np.newaxis,:]\n",
    "    \n",
    "    # Get vector of rotation k and angle theta\n",
    "    n0 = n0/np.linalg.norm(n0)\n",
    "    n1 = n1/np.linalg.norm(n1)\n",
    "    k = np.cross(n0,n1)\n",
    "    k = k/np.linalg.norm(k)\n",
    "    theta = np.arccos(np.dot(n0,n1))\n",
    "    \n",
    "    # Compute rotated points\n",
    "    P_rot = np.zeros((len(P),3))\n",
    "    for i in range(len(P)):\n",
    "        P_rot[i] = P[i]*np.cos(theta) + np.cross(k,P[i])*np.sin(theta) + k*np.dot(k,P[i])*(1-np.cos(theta))\n",
    "\n",
    "    return P_rot\n",
    "\n",
    "def fit_an_ellipse(P):\n",
    "    P_mean = P.mean(axis=0)\n",
    "    P_centered = P - P_mean\n",
    "    \n",
    "    # Fitting plane by SVD for the mean-centered data\n",
    "    U,s,V = np.linalg.svd(P_centered, full_matrices=False)\n",
    "    \n",
    "    # Normal vector of fitting plane is given by 3rd column in V\n",
    "    # Note linalg.svd returns V^T, so we need to select 3rd row from V^T\n",
    "    # normal on 3d plane\n",
    "    normal = V[2,:]\n",
    "    \n",
    "    # Project points to coords X-Y in 2D plane\n",
    "    P_xy = rodrigues_rot(P_centered, normal, [0,0,1])\n",
    "    \n",
    "    # Use skimage EllipseModel to fit an ellipse to set of 2d points\n",
    "    ell = EllipseModel()\n",
    "    ell.estimate(P_xy[:, :2])\n",
    "    \n",
    "    # Generate n 2D points on the fitted elippse\n",
    "    n = 100\n",
    "    xy = ell.predict_xy(np.linspace(0, 2 * np.pi, n))\n",
    "    \n",
    "    # Convert the 2D generated points to the 3D space\n",
    "    points = []\n",
    "    for i in range(len(xy)):\n",
    "        points.append([xy[i, 0], xy[i, 1], 0])\n",
    "    points = np.array(points)\n",
    "    ellipse_points_3d = rodrigues_rot(points, [0,0,1], normal) + P_mean\n",
    "    \n",
    "    return xy, ell, P_xy[:, :2]"
   ]
  },
  {
   "cell_type": "code",
   "execution_count": 20,
   "id": "4c38761b-392e-40e9-9e13-4e7adf741899",
   "metadata": {},
   "outputs": [],
   "source": [
    "def ajusta_elipse(CA_barril, eje_central):\n",
    "    #Calcular los puntos (CA) más cercanos al centroide del eje central y probar elipse con ellos\n",
    "    CA_barril['distancia'] = CA_barril[['x','y','z']].apply(lambda x: eje_central.point.distance_point(x) , axis=1)\n",
    "    CA_waist=pd.DataFrame(columns=CA_barril.columns)\n",
    "    for i in rango:\n",
    "        CA_hebra= CA_barril.loc[CA_barril['hebra']==i]\n",
    "        CA_waist= CA_waist.append(CA_hebra[CA_hebra['distancia'] == CA_hebra['distancia'].min()]) #Infomracion sobre los CA mas cercanos al centroide\n",
    "    CA_waist.drop(['atomo','cadena','orient', 'sheet'], axis=1, inplace=True)\n",
    "\n",
    "    P = np.array(CA_waist[['x','y','z']])\n",
    "    ellipse_points, ell, P_xy = fit_an_ellipse(P)\n",
    "    a=max(ell.params[2],ell.params[3])\n",
    "    b=min(ell.params[2],ell.params[3])\n",
    "    c=np.sqrt(a**2-b**2)\n",
    "    e=c/a\n",
    "    area=a*b*np.pi\n",
    "    perim= math.pi*(3.0*(a+b)-math.sqrt((3.0*a+b)*(a+3.0*b)))\n",
    "    rmsd_ajuste = np.sqrt(np.mean(ell.residuals(P_xy)**2))\n",
    "\n",
    "    return CA_waist, e, area, rmsd_ajuste, perim"
   ]
  },
  {
   "cell_type": "markdown",
   "id": "e4f88c1a-6c43-4665-94e8-4db5182c0bf9",
   "metadata": {},
   "source": [
    "# Abrir y leer el/los archivos de entrada"
   ]
  },
  {
   "cell_type": "code",
   "execution_count": 299,
   "id": "4a44159e-4314-467c-b546-f4b8a8f60133",
   "metadata": {},
   "outputs": [],
   "source": [
    "path= Path('')\n",
    "#path= Path('')\n",
    "#path= Path('')\n",
    "#path= Path('')\n",
    "\n",
    "#with open(path/'lista.txt', 'r') as f:\n",
    "#    lista_arc=[_.rstrip('\\n') for _ in f]\n",
    "    \n",
    "path= Path('')\n",
    "lista_arc=['2dh2A01_SHEETalncris.txt']"
   ]
  },
  {
   "cell_type": "markdown",
   "id": "3c7fcb37-b4c0-40b5-948a-45249036cfa9",
   "metadata": {},
   "source": [
    "# Inicialización de los DataFrames"
   ]
  },
  {
   "cell_type": "code",
   "execution_count": 300,
   "id": "5fd624a8-c959-4ab1-b475-a9557cb1c814",
   "metadata": {},
   "outputs": [],
   "source": [
    "#1uuqA00 fue removido de sc\n",
    "# quitados 2og9A02_SHEETsc.txt, 1tr9A00_SHEETsc.txt, 2ovlA02_SHEETsc.txt, 2qneA01_SHEETsc.txt, 2qw5A00_SHEETsc.txt, 3abzA01_SHEETsc.txt, 3dx5A00_SHEETsc.txt,\n",
    "# quitados 3msyA02_SHEETsc.txt, 3n4eA02_SHEETsc.txt, 3tevA00_SHEETsc.txt, 4h41A00_SHEETsc.txt, 5jbdA02_SHEETsc.txt\n",
    "\n",
    "colnames = ['hebra', 'atomo', 'res', 'cadena', 'num_res','x', 'y', 'z', 'orient', 'sheet'] # agregar nuevos encabezados\n",
    "\n",
    "df_2=pd.DataFrame(columns = ['barril','tecnica','circuito','nraw','n','e','area','rmsd_ajuste','perim','alfa_prom','alfa_ds','rmsd','a_prom','a_ds','b_prom','b_ds',\n",
    "                             'shear_McL','shear_proyec','R_McL','R_Murz','area_c','perim_c','twist_McL','angtw','angtw_ds']) #esto se tiene que definir al inicio de todas las corridas con todos los barriles\n",
    "df_1_todo=pd.DataFrame()\n",
    "\n",
    "df_angulo_twist=pd.DataFrame(columns=['barril','hebra1', 'hebra2', 'angulo'])\n",
    "\n",
    "df_angulo_conexion = pd.DataFrame(columns=['barril','tecnica',\n",
    "                                             'an_1_2','an_2_3','an_3_4','an_4_5','an_5_6','an_6_7','an_7_8','an_8_1',\n",
    "                                             'CA_1_2','CA_2_3','CA_3_4','CA_4_5','CA_5_6','CA_6_7','CA_7_8','CA_8_1',\n",
    "                                             'NO_1_2','NO_2_3','NO_3_4','NO_4_5','NO_5_6','NO_6_7','NO_7_8','NO_8_1',\n",
    "                                             'ON_1_2','ON_2_3','ON_3_4','ON_4_5','ON_5_6','ON_6_7','ON_7_8','ON_8_1'])"
   ]
  },
  {
   "cell_type": "markdown",
   "id": "eeae83cb-28fc-4f65-8cc2-31065cdc9c77",
   "metadata": {},
   "source": [
    "# Procesamiento de datos, aplicación de funciones y llenado de dataframes"
   ]
  },
  {
   "cell_type": "code",
   "execution_count": 301,
   "id": "2666fc4b-ac51-4095-8036-c5ce31b4d72e",
   "metadata": {},
   "outputs": [
    {
     "name": "stdout",
     "output_type": "stream",
     "text": [
      "2dh2A01_SHEETalncris.txt\n"
     ]
    }
   ],
   "source": [
    "for archivo in lista_arc:\n",
    "    \n",
    "    #APLICACIÓN DE FUNCIONES PARA DEFINIR EL BARRIL\n",
    "    n_hebras, CA, txt, CB, N, O = datos(archivo)\n",
    "    dic_fit = fitlines(CA)\n",
    "    dic_dis = distancia_interhebra_angulo(dic_fit, CA, N, O, True) # El primero con los filtros más duros para descartar hebras fuera del barril\n",
    "    grupos = grupos_hebras_conectadas(dic_dis)\n",
    "    tamano, mi, mj, hebras_barril = grupo_mas_grande(grupos)\n",
    "    \n",
    "    CA_barril, N_barril, O_barril, rango = coordenadas_barril_actualizacion(hebras_barril, CA, N, O) \n",
    "    dic_fit_new = fitlines(CA_barril)\n",
    "    dic_dis_new = distancia_interhebra_angulo(dic_fit_new, CA_barril, N_barril, O_barril, False) # El segundo con un filtro más flexible para ver si el barril es cerrado\n",
    "    \n",
    "    grupos_new = grupos_hebras_conectadas(dic_dis_new)\n",
    "    tamano_new, mi_new, mj_new, hebras_barril_new = grupo_mas_grande(grupos_new)\n",
    "    \n",
    "    circuito = barril_circuito(hebras_barril_new, dic_dis_new)\n",
    "    \n",
    "    direcciones_heb_barril, centros_heb_barril, eje_central = centros_direcciones_barril(dic_fit_new, rango)\n",
    "    \n",
    "    ### Solo calcula elipse si el barril tiene 5 o más hebras\n",
    "    if tamano_new>4:\n",
    "        CA_waist, e, area, rmsd_ajuste, perim = ajusta_elipse(CA_barril, eje_central)\n",
    "    else: \n",
    "        CA_waist, e, area, rmsd_ajuste, perim = np.nan,np.nan,np.nan,np.nan,np.nan\n",
    "    \n",
    "    \n",
    "    ### Construcción del dataframe con información de cada hebra de los barriles (df_1)\n",
    "    index = pd.MultiIndex.from_product([[archivo.split('_')[0]], rango], names=['barril', 'hebra'])\n",
    "    df_1=pd.DataFrame(index=index,columns = ['rmsd','a', 'b', 'alfa','len'])\n",
    "    df_1=a_b_rmsd_hebras(rango, dic_dis_new, CA_barril, df_1, dic_fit_new)    \n",
    "    df_1['alfa'] = [angle_between(direcciones_heb_barril.loc[i], eje_central.direction) for i in rango]\n",
    "    df_1['alfa'] = [180-i if i>90 else i for i in df_1['alfa']]\n",
    "    df_1['len'] = list(map(lambda x: len(CA_barril[CA_barril['hebra']==x]), rango))\n",
    "\n",
    "    ### Construcción del dataframe con los ángulos twist entre hebras adyacentes del barril (df_angulo_twist)\n",
    "    df_angulo_twist = angulo_twist(df_angulo_twist, rango, dic_dis_new) \n",
    "    df_tw= df_angulo_twist[df_angulo_twist['barril']==archivo.split('_')[0]]\n",
    "    \n",
    "    ### Construccion del dataframe con los angulos y conexiones ###\n",
    "    if tamano_new == 8:\n",
    "        df_angulo_conexion = angulo_conexion(df_angulo_conexion,CA_barril,N_barril,O_barril,dic_fit_new)\n",
    "\n",
    "    ### Construccioón del dataframe df_2 con información de los barriles    \n",
    "    alfa = df_1.loc[(archivo.split('_')[0]),'alfa'].mean(axis=0)\n",
    "    a = df_1.loc[(archivo.split('_')[0]),'a'].mean(axis=0)\n",
    "    b = df_1.loc[(archivo.split('_')[0]),'b'].mean(axis=0)\n",
    "    shear_McL = tamano_new * b * math.tan(math.radians(alfa)) / a\n",
    "    shear_proyec = shear_proyeccion(dic_fit_new, hebras_barril_new, a)\n",
    "    R_McL = b / (2 * math.sin(math.pi / tamano_new) * math.cos(math.radians(alfa)))\n",
    "    \n",
    "    df_2=df_2.append({'barril':archivo.split('_')[0],\n",
    "                      'tecnica':(archivo.split('SHEET')[1]).split('.')[0],\n",
    "                      'circuito':circuito,\n",
    "                      'nraw':n_hebras,\n",
    "                      'n':tamano_new,\n",
    "                      'e':e,\n",
    "                      'area':area,\n",
    "                      'rmsd_ajuste':rmsd_ajuste,\n",
    "                      'perim':perim,\n",
    "                      'alfa_prom':alfa,\n",
    "                      'alfa_ds':df_1.loc[(archivo.split('_')[0]),'alfa'].std(axis=0),\n",
    "                      'rmsd':df_1.loc[(archivo.split('_')[0]),'rmsd'].mean(axis=0),\n",
    "                      'a_prom':a,\n",
    "                      'a_ds':df_1.loc[(archivo.split('_')[0]),'a'].std(axis=0),\n",
    "                      'b_prom':b,\n",
    "                      'b_ds':df_1.loc[(archivo.split('_')[0]),'b'].std(axis=0),\n",
    "                      'shear_McL':shear_McL,\n",
    "                      'shear_proyec':shear_proyec,\n",
    "                      'R_McL':R_McL,\n",
    "                      'R_Murz':(((shear_McL * a)**2 + (tamano_new * b)**2)**0.5) / (2*tamano_new*math.sin(math.pi/tamano_new)),\n",
    "                      'area_c':math.pi * R_McL**2,\n",
    "                      'perim_c':math.pi * R_McL * 2,\n",
    "                      'twist_McL':a * math.sin(math.radians(alfa)) * math.cos(math.radians(alfa)) / (2 * math.pi * R_McL),\n",
    "                      'angtw':df_tw['angulo'].mean(axis=0),\n",
    "                      'angtw_ds':df_tw['angulo'].std(axis=0),\n",
    "                     }, ignore_index=True)\n",
    "    \n",
    "    df_1_todo=pd.concat([df_1_todo, df_1], axis=0)"
   ]
  },
  {
   "cell_type": "markdown",
   "id": "99b6d646-cbaa-4883-b48c-c36b935ccdad",
   "metadata": {},
   "source": [
    "# Guardar dataframes con nueva información"
   ]
  },
  {
   "cell_type": "code",
   "execution_count": 1,
   "id": "1844f2a9-eb58-4ce2-a571-f02ace2ff490",
   "metadata": {},
   "outputs": [],
   "source": [
    "#path_save=Path('')\n",
    "#path_save=Path('')\n",
    "#path_save=Path('')\n",
    "#path_save=Path('')\n",
    "\n",
    "#df_2.to_csv(path_save/'dfd_2alncris.txt', header=True, index=False, sep='\\t')\n",
    "#df_1_todo.to_csv(path_save/'dfd_1_todoalncris.txt', header=True, index=True, sep='\\t')\n",
    "#df_angulo_twist.to_csv(path_save/'dfd_angulo_twistalncris.txt', header=True, index=False, sep='\\t') \n",
    "#df_angulo_conexion.to_csv(path_save/'ac_alncris.txt', header=True, index=False, sep='\\t') \n",
    "\n",
    "\n",
    "#Carpetas\n",
    "#prueba2.000001  prueba_aln.000001  prueba_alncris.000001fusion  prueba_stridesolo"
   ]
  },
  {
   "cell_type": "code",
   "execution_count": 2,
   "id": "bbf49d5b-dcf5-493e-82df-5497ea456fc4",
   "metadata": {},
   "outputs": [],
   "source": [
    "#df_angulo_conexion.iloc[:,10:25]\n",
    "#df_angulo_conexion.iloc[:,25:38]\n",
    "#print(list(CA['num_res']))"
   ]
  },
  {
   "cell_type": "code",
   "execution_count": null,
   "id": "a9ecd8d1-66a2-450c-98c3-b62fc1d12ddf",
   "metadata": {},
   "outputs": [],
   "source": []
  }
 ],
 "metadata": {
  "kernelspec": {
   "display_name": "Python 3",
   "language": "python",
   "name": "python3"
  },
  "language_info": {
   "codemirror_mode": {
    "name": "ipython",
    "version": 3
   },
   "file_extension": ".py",
   "mimetype": "text/x-python",
   "name": "python",
   "nbconvert_exporter": "python",
   "pygments_lexer": "ipython3",
   "version": "3.8.8"
  },
  "toc-showcode": true
 },
 "nbformat": 4,
 "nbformat_minor": 5
}
